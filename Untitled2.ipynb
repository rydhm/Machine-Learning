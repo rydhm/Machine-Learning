{
 "cells": [
  {
   "cell_type": "code",
   "execution_count": 1,
   "metadata": {},
   "outputs": [],
   "source": [
    "def ifr(infected,deseased,state):\n",
    "    IFR=(deseased/infected)*100\n",
    "    print(\"IFR rate for {} is {}\".format(state,IFR))"
   ]
  },
  {
   "cell_type": "code",
   "execution_count": 2,
   "metadata": {},
   "outputs": [
    {
     "name": "stdout",
     "output_type": "stream",
     "text": [
      "IFR rate for Maharashtra is 4.2578082618273765\n"
     ]
    }
   ],
   "source": [
    "ifr(211987,9026,'Maharashtra')"
   ]
  },
  {
   "cell_type": "code",
   "execution_count": 5,
   "metadata": {},
   "outputs": [],
   "source": [
    "def cfr(deseased, tpopulation,state):\n",
    "    CFR=(deseased/tpopulation)/100000\n",
    "    print(\"CFR rate for {} is{}\".format(state,CFR))"
   ]
  },
  {
   "cell_type": "code",
   "execution_count": 6,
   "metadata": {},
   "outputs": [
    {
     "name": "stdout",
     "output_type": "stream",
     "text": [
      "CFR rate for Maharashtra is7.90367775831874e-10\n"
     ]
    }
   ],
   "source": [
    "cfr(9026,114200000,'Maharashtra')"
   ]
  },
  {
   "cell_type": "code",
   "execution_count": null,
   "metadata": {},
   "outputs": [],
   "source": []
  }
 ],
 "metadata": {
  "kernelspec": {
   "display_name": "Python 3",
   "language": "python",
   "name": "python3"
  },
  "language_info": {
   "codemirror_mode": {
    "name": "ipython",
    "version": 3
   },
   "file_extension": ".py",
   "mimetype": "text/x-python",
   "name": "python",
   "nbconvert_exporter": "python",
   "pygments_lexer": "ipython3",
   "version": "3.7.6"
  }
 },
 "nbformat": 4,
 "nbformat_minor": 4
}
